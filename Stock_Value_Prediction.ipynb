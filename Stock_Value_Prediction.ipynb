{
 "cells": [
  {
   "cell_type": "code",
   "execution_count": 1,
   "id": "2711d1d7",
   "metadata": {},
   "outputs": [
    {
     "name": "stderr",
     "output_type": "stream",
     "text": [
      "2023-08-26 17:04:08.877757: I tensorflow/core/platform/cpu_feature_guard.cc:193] This TensorFlow binary is optimized with oneAPI Deep Neural Network Library (oneDNN) to use the following CPU instructions in performance-critical operations:  SSE4.1 SSE4.2\n",
      "To enable them in other operations, rebuild TensorFlow with the appropriate compiler flags.\n"
     ]
    }
   ],
   "source": [
    "import numpy as np\n",
    "import pandas as pd\n",
    "import matplotlib.pyplot as plt\n",
    "from sklearn.preprocessing import MinMaxScaler\n",
    "from keras.models import Sequential\n",
    "from keras.layers import Dense,LSTM,Dropout"
   ]
  },
  {
   "cell_type": "code",
   "execution_count": 2,
   "id": "88eeec76",
   "metadata": {},
   "outputs": [
    {
     "data": {
      "text/html": [
       "<div>\n",
       "<style scoped>\n",
       "    .dataframe tbody tr th:only-of-type {\n",
       "        vertical-align: middle;\n",
       "    }\n",
       "\n",
       "    .dataframe tbody tr th {\n",
       "        vertical-align: top;\n",
       "    }\n",
       "\n",
       "    .dataframe thead th {\n",
       "        text-align: right;\n",
       "    }\n",
       "</style>\n",
       "<table border=\"1\" class=\"dataframe\">\n",
       "  <thead>\n",
       "    <tr style=\"text-align: right;\">\n",
       "      <th></th>\n",
       "      <th>Date</th>\n",
       "      <th>Open</th>\n",
       "      <th>High</th>\n",
       "      <th>Low</th>\n",
       "      <th>Close</th>\n",
       "      <th>Adj Close</th>\n",
       "      <th>Volume</th>\n",
       "    </tr>\n",
       "  </thead>\n",
       "  <tbody>\n",
       "    <tr>\n",
       "      <th>0</th>\n",
       "      <td>2010-01-28</td>\n",
       "      <td>13.561418</td>\n",
       "      <td>13.623934</td>\n",
       "      <td>13.215465</td>\n",
       "      <td>13.307371</td>\n",
       "      <td>13.307371</td>\n",
       "      <td>129648138</td>\n",
       "    </tr>\n",
       "    <tr>\n",
       "      <th>1</th>\n",
       "      <td>2010-01-29</td>\n",
       "      <td>13.411979</td>\n",
       "      <td>13.474245</td>\n",
       "      <td>13.091181</td>\n",
       "      <td>13.199027</td>\n",
       "      <td>13.199027</td>\n",
       "      <td>166240784</td>\n",
       "    </tr>\n",
       "    <tr>\n",
       "      <th>2</th>\n",
       "      <td>2010-02-01</td>\n",
       "      <td>13.315092</td>\n",
       "      <td>13.345229</td>\n",
       "      <td>13.207993</td>\n",
       "      <td>13.275739</td>\n",
       "      <td>13.275739</td>\n",
       "      <td>90369462</td>\n",
       "    </tr>\n",
       "    <tr>\n",
       "      <th>3</th>\n",
       "      <td>2010-02-02</td>\n",
       "      <td>13.324058</td>\n",
       "      <td>13.324058</td>\n",
       "      <td>13.140994</td>\n",
       "      <td>13.228417</td>\n",
       "      <td>13.228417</td>\n",
       "      <td>164462143</td>\n",
       "    </tr>\n",
       "    <tr>\n",
       "      <th>4</th>\n",
       "      <td>2010-02-03</td>\n",
       "      <td>13.167395</td>\n",
       "      <td>13.501892</td>\n",
       "      <td>13.156436</td>\n",
       "      <td>13.470011</td>\n",
       "      <td>13.470011</td>\n",
       "      <td>120413655</td>\n",
       "    </tr>\n",
       "  </tbody>\n",
       "</table>\n",
       "</div>"
      ],
      "text/plain": [
       "         Date       Open       High        Low      Close  Adj Close  \\\n",
       "0  2010-01-28  13.561418  13.623934  13.215465  13.307371  13.307371   \n",
       "1  2010-01-29  13.411979  13.474245  13.091181  13.199027  13.199027   \n",
       "2  2010-02-01  13.315092  13.345229  13.207993  13.275739  13.275739   \n",
       "3  2010-02-02  13.324058  13.324058  13.140994  13.228417  13.228417   \n",
       "4  2010-02-03  13.167395  13.501892  13.156436  13.470011  13.470011   \n",
       "\n",
       "      Volume  \n",
       "0  129648138  \n",
       "1  166240784  \n",
       "2   90369462  \n",
       "3  164462143  \n",
       "4  120413655  "
      ]
     },
     "execution_count": 2,
     "metadata": {},
     "output_type": "execute_result"
    }
   ],
   "source": [
    "dataset=pd.read_csv('/Users/uditaggarwal/Downloads/GOOG.csv')\n",
    "dataset.head()"
   ]
  },
  {
   "cell_type": "code",
   "execution_count": 3,
   "id": "4a8b38b3",
   "metadata": {},
   "outputs": [
    {
     "name": "stdout",
     "output_type": "stream",
     "text": [
      "<class 'pandas.core.frame.DataFrame'>\n",
      "RangeIndex: 1258 entries, 0 to 1257\n",
      "Data columns (total 7 columns):\n",
      " #   Column     Non-Null Count  Dtype  \n",
      "---  ------     --------------  -----  \n",
      " 0   Date       1258 non-null   object \n",
      " 1   Open       1258 non-null   float64\n",
      " 2   High       1258 non-null   float64\n",
      " 3   Low        1258 non-null   float64\n",
      " 4   Close      1258 non-null   float64\n",
      " 5   Adj Close  1258 non-null   float64\n",
      " 6   Volume     1258 non-null   int64  \n",
      "dtypes: float64(5), int64(1), object(1)\n",
      "memory usage: 68.9+ KB\n"
     ]
    }
   ],
   "source": [
    "dataset.info()"
   ]
  },
  {
   "cell_type": "code",
   "execution_count": 4,
   "id": "24d4e4ad",
   "metadata": {},
   "outputs": [],
   "source": [
    "dataset=dataset.dropna()\n",
    "trainset=dataset.iloc[:,4:5].values"
   ]
  },
  {
   "cell_type": "code",
   "execution_count": 5,
   "id": "bd523fae",
   "metadata": {},
   "outputs": [
    {
     "name": "stdout",
     "output_type": "stream",
     "text": [
      "<class 'pandas.core.frame.DataFrame'>\n",
      "RangeIndex: 1258 entries, 0 to 1257\n",
      "Data columns (total 7 columns):\n",
      " #   Column     Non-Null Count  Dtype  \n",
      "---  ------     --------------  -----  \n",
      " 0   Date       1258 non-null   object \n",
      " 1   Open       1258 non-null   float64\n",
      " 2   High       1258 non-null   float64\n",
      " 3   Low        1258 non-null   float64\n",
      " 4   Close      1258 non-null   float64\n",
      " 5   Adj Close  1258 non-null   float64\n",
      " 6   Volume     1258 non-null   int64  \n",
      "dtypes: float64(5), int64(1), object(1)\n",
      "memory usage: 68.9+ KB\n"
     ]
    }
   ],
   "source": [
    "dataset.info()"
   ]
  },
  {
   "cell_type": "code",
   "execution_count": 6,
   "id": "bbf837bf",
   "metadata": {},
   "outputs": [
    {
     "data": {
      "text/plain": [
       "(1258, 1)"
      ]
     },
     "execution_count": 6,
     "metadata": {},
     "output_type": "execute_result"
    }
   ],
   "source": [
    "scale=MinMaxScaler(feature_range=(0,1))\n",
    "trainset=scale.fit_transform(trainset)\n",
    "trainset.shape"
   ]
  },
  {
   "cell_type": "code",
   "execution_count": 7,
   "id": "7268168a",
   "metadata": {},
   "outputs": [],
   "source": [
    "W_train=[]\n",
    "Y_train=[]\n",
    "for i in range(60,1234):\n",
    "    W_train.append(trainset[i-60:i,0])\n",
    "    Y_train.append(trainset[i,0])\n",
    "    \n",
    "W_train,Y_train=np.array(W_train),np.array(Y_train)"
   ]
  },
  {
   "cell_type": "code",
   "execution_count": 8,
   "id": "a0d436f2",
   "metadata": {},
   "outputs": [
    {
     "data": {
      "text/plain": [
       "(1174, 60, 1)"
      ]
     },
     "execution_count": 8,
     "metadata": {},
     "output_type": "execute_result"
    }
   ],
   "source": [
    "W_train=np.reshape(W_train,(W_train.shape[0],W_train.shape[1],1))\n",
    "W_train.shape"
   ]
  },
  {
   "cell_type": "code",
   "execution_count": 9,
   "id": "0920d92d",
   "metadata": {},
   "outputs": [
    {
     "name": "stderr",
     "output_type": "stream",
     "text": [
      "2023-08-26 17:04:33.352670: I tensorflow/core/platform/cpu_feature_guard.cc:193] This TensorFlow binary is optimized with oneAPI Deep Neural Network Library (oneDNN) to use the following CPU instructions in performance-critical operations:  SSE4.1 SSE4.2\n",
      "To enable them in other operations, rebuild TensorFlow with the appropriate compiler flags.\n"
     ]
    }
   ],
   "source": [
    "technique=Sequential()\n",
    "\n",
    "technique.add(LSTM(units=100,return_sequences=True,input_shape=(W_train.shape[1],1)))\n",
    "technique.add(Dropout(0.2))\n",
    "\n",
    "technique.add(LSTM(units=100,return_sequences=True))\n",
    "technique.add(Dropout(0.2))\n",
    "\n",
    "technique.add(LSTM(units=100,return_sequences=True))\n",
    "technique.add(Dropout(0.2))\n",
    "\n",
    "technique.add(LSTM(units=100,return_sequences=False))\n",
    "technique.add(Dropout(0.2))\n",
    "\n",
    "technique.add(Dense(units=1))\n",
    "technique.compile(optimizer='adam',loss=\"mean_squared_error\")"
   ]
  },
  {
   "cell_type": "code",
   "execution_count": 10,
   "id": "162e6055",
   "metadata": {},
   "outputs": [
    {
     "name": "stdout",
     "output_type": "stream",
     "text": [
      "Epoch 1/20\n",
      "37/37 - 7s - loss: 0.0192 - 7s/epoch - 192ms/step\n",
      "Epoch 2/20\n",
      "37/37 - 4s - loss: 0.0046 - 4s/epoch - 101ms/step\n",
      "Epoch 3/20\n",
      "37/37 - 4s - loss: 0.0042 - 4s/epoch - 100ms/step\n",
      "Epoch 4/20\n",
      "37/37 - 4s - loss: 0.0037 - 4s/epoch - 103ms/step\n",
      "Epoch 5/20\n",
      "37/37 - 4s - loss: 0.0035 - 4s/epoch - 100ms/step\n",
      "Epoch 6/20\n",
      "37/37 - 4s - loss: 0.0033 - 4s/epoch - 101ms/step\n",
      "Epoch 7/20\n",
      "37/37 - 4s - loss: 0.0029 - 4s/epoch - 100ms/step\n",
      "Epoch 8/20\n",
      "37/37 - 4s - loss: 0.0028 - 4s/epoch - 99ms/step\n",
      "Epoch 9/20\n",
      "37/37 - 4s - loss: 0.0032 - 4s/epoch - 101ms/step\n",
      "Epoch 10/20\n",
      "37/37 - 4s - loss: 0.0026 - 4s/epoch - 100ms/step\n",
      "Epoch 11/20\n",
      "37/37 - 4s - loss: 0.0027 - 4s/epoch - 99ms/step\n",
      "Epoch 12/20\n",
      "37/37 - 4s - loss: 0.0027 - 4s/epoch - 100ms/step\n",
      "Epoch 13/20\n",
      "37/37 - 4s - loss: 0.0029 - 4s/epoch - 101ms/step\n",
      "Epoch 14/20\n",
      "37/37 - 4s - loss: 0.0024 - 4s/epoch - 101ms/step\n",
      "Epoch 15/20\n",
      "37/37 - 4s - loss: 0.0023 - 4s/epoch - 101ms/step\n",
      "Epoch 16/20\n",
      "37/37 - 4s - loss: 0.0024 - 4s/epoch - 101ms/step\n",
      "Epoch 17/20\n",
      "37/37 - 4s - loss: 0.0022 - 4s/epoch - 102ms/step\n",
      "Epoch 18/20\n",
      "37/37 - 4s - loss: 0.0021 - 4s/epoch - 101ms/step\n",
      "Epoch 19/20\n",
      "37/37 - 4s - loss: 0.0018 - 4s/epoch - 101ms/step\n",
      "Epoch 20/20\n",
      "37/37 - 4s - loss: 0.0020 - 4s/epoch - 101ms/step\n"
     ]
    }
   ],
   "source": [
    "datatraining=technique.fit(W_train,Y_train,epochs=20,batch_size=32,verbose=2)"
   ]
  },
  {
   "cell_type": "code",
   "execution_count": null,
   "id": "cde4caa2",
   "metadata": {},
   "outputs": [],
   "source": [
    "plt.plot(datatraining.history['loss'])\n",
    "plt.title('Training model loss')\n",
    "plt.ylabel('loss')\n",
    "plt.xlabel('epoch')\n",
    "plt.legend(['train'],loc='upper left')\n",
    "plt.show()"
   ]
  },
  {
   "cell_type": "code",
   "execution_count": null,
   "id": "a0344f57",
   "metadata": {},
   "outputs": [],
   "source": [
    "testset=pd.read_csv('/Users/uditaggarwal/Downloads/GOOG.csv')\n",
    "testset=testset.dropna()\n",
    "testset=testset.iloc[:,4:5]\n",
    "Y_test=testset.iloc[60:,0:].values\n",
    "inputclose=testset.iloc[:,0:].values\n",
    "inputclose_scaled=scale.transform(inputclose)\n",
    "inputclose_scaled.shape\n",
    "W_test=[]\n",
    "length=len(testset)\n",
    "time_step=60\n",
    "for i in range(time_step,length):\n",
    "    W_test.append(inputclose_scaled[i-time_step:i,0])\n",
    "W_test=np.array(W_test)\n",
    "W_test=np.reshape(W_test,(W_test.shape[0],W_test.shape[1],1))\n",
    "W_test.shape"
   ]
  },
  {
   "cell_type": "code",
   "execution_count": null,
   "id": "9e30699e",
   "metadata": {},
   "outputs": [],
   "source": [
    "Y_predict=technique.predict(W_test)\n",
    "Y_predict"
   ]
  },
  {
   "cell_type": "code",
   "execution_count": null,
   "id": "da9a31bd",
   "metadata": {},
   "outputs": [],
   "source": [
    "predicted_price=scale.inverse_transform(Y_predict)"
   ]
  },
  {
   "cell_type": "code",
   "execution_count": null,
   "id": "0d608382",
   "metadata": {},
   "outputs": [],
   "source": [
    "plt.plot(Y_test,color='green',label='Actual stock prices')\n",
    "plt.plot(predicted_price,color='red',label='Predicted stock price')\n",
    "plt.title('Samsung stock price prediction')\n",
    "plt.xlabel('Time')\n",
    "plt.ylabel('Stock Price')\n",
    "plt.legend()\n",
    "plt.show()"
   ]
  },
  {
   "cell_type": "code",
   "execution_count": null,
   "id": "2e50c0be",
   "metadata": {},
   "outputs": [],
   "source": []
  }
 ],
 "metadata": {
  "kernelspec": {
   "display_name": "Python 3 (ipykernel)",
   "language": "python",
   "name": "python3"
  },
  "language_info": {
   "codemirror_mode": {
    "name": "ipython",
    "version": 3
   },
   "file_extension": ".py",
   "mimetype": "text/x-python",
   "name": "python",
   "nbconvert_exporter": "python",
   "pygments_lexer": "ipython3",
   "version": "3.9.13"
  }
 },
 "nbformat": 4,
 "nbformat_minor": 5
}
